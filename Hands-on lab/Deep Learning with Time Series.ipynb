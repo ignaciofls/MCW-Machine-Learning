{
 "cells": [
  {
   "cell_type": "markdown",
   "metadata": {},
   "source": [
    "# Creating a Deep Learning Forecasting model with PyTorch\n",
    "In this notebook, you will create a Recurrent Neural Network (RNN) that you can use to forecast the battery cycles used for time series battery data."
   ]
  },
  {
   "cell_type": "code",
   "execution_count": 2,
   "metadata": {},
   "outputs": [],
   "source": [
    "# Install the necessary libraries directly into the notebook context\n",
    "\n",
    "dbutils.library.installPyPI('torch')\n",
    "dbutils.library.restartPython()\n",
    "dbutils.library.list()"
   ]
  },
  {
   "cell_type": "code",
   "execution_count": 3,
   "metadata": {},
   "outputs": [],
   "source": [
    "import uuid\n",
    "import os\n",
    "import numpy as np\n",
    "import pandas as pd\n",
    "import matplotlib.pyplot as plt\n",
    "from sklearn.preprocessing import MinMaxScaler\n",
    "\n",
    "np.random.seed(1) # ensure repeatability\n",
    "\n",
    "import torch\n",
    "import torch.nn as nn\n",
    "import torch.optim as optim\n",
    "\n",
    "pd.set_option('display.max_columns', 10)\n",
    "\n",
    "torch.manual_seed(0) # ensure repeatability"
   ]
  },
  {
   "cell_type": "markdown",
   "metadata": {},
   "source": [
    "### Download the data\n",
    "\n",
    "The following cell will download the data set containing the daily battery time series.\n",
    "The CSV file will be saved in a temporary folder on the Databricks cluster for later reuse."
   ]
  },
  {
   "cell_type": "code",
   "execution_count": 5,
   "metadata": {},
   "outputs": [],
   "source": [
    "\n",
    "filesToDownload = ['daily-battery-time-series-v2.csv']\n",
    "\n",
    "for fileToDownload in filesToDownload:\n",
    "  downloadCommand = 'wget -O ''/dbfs{0}/{1}'' ''https://databricksdemostore.blob.core.windows.net/data/connected-car/{1}'''.format(., fileToDownload)\n",
    "  print(downloadCommand)\n",
    "  ret_val = os.system(downloadCommand)\n",
    "  print('System resturned value %s' % (ret_val))"
   ]
  },
  {
   "cell_type": "markdown",
   "metadata": {},
   "source": [
    "A simple check to make sure our data file was correctly downloaded."
   ]
  },
  {
   "cell_type": "markdown",
   "metadata": {},
   "source": [
    "### Load the data\n",
    "\n",
    "The previously downloaded CSV file will be loaded into a Pandas Dataframe and its first few rows inspected."
   ]
  },
  {
   "cell_type": "code",
   "execution_count": 9,
   "metadata": {},
   "outputs": [],
   "source": [
    "# Load the dataset\n",
    "file_path = '/dbfs%s/%s' % (., filesToDownload[0])\n",
    "df = pd.read_csv(file_path, delimiter=',')\n",
    "df = df[['Date','Battery_ID','Battery_Age_Days','Number_Of_Trips','Daily_Trip_Duration','Daily_Cycles_Used', 'Lifetime_Cycles_Used', 'Battery_Rated_Cycles']]\n",
    "\n",
    "# Inspect the data frame\n",
    "df.head()"
   ]
  },
  {
   "cell_type": "markdown",
   "metadata": {},
   "source": [
    "The time series related to one specific Battery_ID will be isolated and its shape checked. To keep the model simple and make is easier to understand, only one column will be used - Daily_Cycles_Used.\n",
    "\n",
    "In case the dataset contains more time series, the process of training and prediction must be repeated for each individual series."
   ]
  },
  {
   "cell_type": "code",
   "execution_count": 11,
   "metadata": {},
   "outputs": [],
   "source": [
    "# Isolate the time series related to one Battery_ID\n",
    "df_source = df[df['Battery_ID'] == 0][['Daily_Cycles_Used']]\n",
    "df_source.shape"
   ]
  },
  {
   "cell_type": "markdown",
   "metadata": {},
   "source": [
    "Reshape our input as a one dimensional array. This will make some of the operations we'll perform easier to follow and understand."
   ]
  },
  {
   "cell_type": "code",
   "execution_count": 13,
   "metadata": {},
   "outputs": [],
   "source": [
    "source = df_source.values.reshape(1, df_source.shape[0])[0]"
   ]
  },
  {
   "cell_type": "markdown",
   "metadata": {},
   "source": [
    "### Prepare the data\n",
    "\n",
    "Our time series prediction model will use a special kind of RNN (Recurrent Neural Network) built out of LSTM (Long Short Term Memory) cells. LSTMs are not particularly happy with very long series so we are setting the maximum limit of a time series to 250 steps (```sample_size```). Based on this value, we calculate then the maximum number of non-overlapping samples we can get from our original time series (```num_samples```).\n",
    "\n",
    "We then consolidate these samples into two matrixes, ```input``` and ```output```. Notice they are built in a way that for every element Xn in every sample in ```input```, the corresponding element from ```output``` is equal to the one that follows Xn (which is Xn+1). The fundamental idea is that we're looking to train a model that will be capable of predicting Xn+1 based on Xn."
   ]
  },
  {
   "cell_type": "code",
   "execution_count": 15,
   "metadata": {},
   "outputs": [],
   "source": [
    "sample_size = 250\n",
    "num_samples = source.shape[0] // sample_size\n",
    "\n",
    "input = np.zeros((num_samples, sample_size))\n",
    "output = np.zeros((num_samples, sample_size))\n",
    "\n",
    "for i in range(num_samples):\n",
    "  input[i] = source[-(i+1) * sample_size - 2 : -i * sample_size - 2]\n",
    "  output[i] = source[-(i+1) * sample_size - 1 : -i * sample_size - 1]"
   ]
  },
  {
   "cell_type": "markdown",
   "metadata": {},
   "source": [
    "Since we are using PyTorch, we're moving ```input``` and ```output``` into tensor space. The \\_t notation is used to identify a variable that is a tensor."
   ]
  },
  {
   "cell_type": "code",
   "execution_count": 17,
   "metadata": {},
   "outputs": [],
   "source": [
    "input_t = torch.from_numpy(input)\n",
    "target_t = torch.from_numpy(output)\n",
    "print(input_t.shape)\n",
    "print(target_t.shape)"
   ]
  },
  {
   "cell_type": "markdown",
   "metadata": {},
   "source": [
    "### Build and train the model\n",
    "\n",
    "Next, we define our model as a class derived from the base class ```nn.Module```. Our model contains two hidden LSTM layers of sizes ```hidden_layer1_size``` and ```hidden_layer2_size``` respectively. The output of the second LSTM layer is fed into a linear layer that will combine all components into a single output.\n",
    "\n",
    "Each hidden layer also needs a pair of variables to hold internal state (```h_t```,```c_t``` and ```h_t2```,```c_t2``` respectively). They are used by the LSTM cells to keep track of their \"memory\" during the run of every epoch (implemented by the ```forward``` method). Notice how the internal state is reset at the beginning of each epoch run.\n",
    "\n",
    "Also notice the ```future``` parameter which controls whether we want to also make predictions into the future or not. The value of this parameter will be 0 during the training process and set to a number of days when the model is called to make a prediction once it is trained."
   ]
  },
  {
   "cell_type": "code",
   "execution_count": 19,
   "metadata": {},
   "outputs": [],
   "source": [
    "# The number of nodes in the hidden layers\n",
    "hidden_layer1_size = 75\n",
    "hidden_layer2_size = 75\n",
    "\n",
    "class LSTMPredictor(nn.Module):\n",
    "    def __init__(self):\n",
    "        super(LSTMPredictor, self).__init__()\n",
    "        self.lstm1 = nn.LSTMCell(1, hidden_layer1_size)\n",
    "        self.lstm2 = nn.LSTMCell(hidden_layer1_size, hidden_layer2_size)\n",
    "        self.linear = nn.Linear(hidden_layer2_size, 1)\n",
    "\n",
    "    def forward(self, input, future = 0):\n",
    "        outputs = []\n",
    "        h_t = torch.zeros(input.size(0), hidden_layer1_size, dtype=torch.double)\n",
    "        c_t = torch.zeros(input.size(0), hidden_layer1_size, dtype=torch.double)\n",
    "        h_t2 = torch.zeros(input.size(0), hidden_layer2_size, dtype=torch.double)\n",
    "        c_t2 = torch.zeros(input.size(0), hidden_layer2_size, dtype=torch.double)\n",
    "\n",
    "        for i, input_t in enumerate(input.chunk(input.size(1), dim=1)):\n",
    "            h_t, c_t = self.lstm1(input_t, (h_t, c_t))\n",
    "            h_t2, c_t2 = self.lstm2(h_t, (h_t2, c_t2))\n",
    "            output = self.linear(h_t2)\n",
    "            outputs += [output]\n",
    "        for i in range(future):# if we should predict the future\n",
    "            h_t, c_t = self.lstm1(output, (h_t, c_t))\n",
    "            h_t2, c_t2 = self.lstm2(h_t, (h_t2, c_t2))\n",
    "            output = self.linear(h_t2)\n",
    "            outputs += [output]\n",
    "        outputs = torch.stack(outputs, 1).squeeze(2)\n",
    "        return outputs"
   ]
  },
  {
   "cell_type": "markdown",
   "metadata": {},
   "source": [
    "Set the number of epochs, the learning rate, the method to calculate the loss function, and the optimizer used for the backwards pass on the network during training."
   ]
  },
  {
   "cell_type": "code",
   "execution_count": 21,
   "metadata": {},
   "outputs": [],
   "source": [
    "# Increase the number of epochs for better results\n",
    "epochs = 150\n",
    "learning_rate = 0.5\n",
    "\n",
    "# build the model\n",
    "pred = LSTMPredictor()\n",
    "pred.double() #convert all internal values to doubles\n",
    "criteria = nn.MSELoss()\n",
    "optimizer = torch.optim.Adam(pred.parameters(), lr=learning_rate)"
   ]
  },
  {
   "cell_type": "markdown",
   "metadata": {},
   "source": [
    "Perform the actual training on the model.\n",
    "\n",
    "For each epoch, we will perform the following steps:\n",
    "\n",
    "- Make a prediction using the ```input_t``` input tensor\n",
    "- Calculate how far is the predicted result from the expected result (stored in the ```target_t``` tensor). The distance is given by the value of the loss function, which we also save.\n",
    "- Zero out the gradients (we are resetting them on each epoch)\n",
    "- Trigger the backpropagation process through which we are recalibrating the internal weights of the network\n",
    "- Activate the optimizer to help the recalibration process"
   ]
  },
  {
   "cell_type": "code",
   "execution_count": 23,
   "metadata": {},
   "outputs": [],
   "source": [
    "losses = []\n",
    "\n",
    "for epoch in np.arange(1, epochs + 1):\n",
    "    \n",
    "    print('Starting epoch %s...' % (epoch))\n",
    "    \n",
    "    # Feed the input through the network\n",
    "    out = pred(input_t)\n",
    "\n",
    "    # Calculate loss tensor\n",
    "    loss = criteria(out, target_t)\n",
    "    losses += [loss.item()]\n",
    "    print('Current loss: %s' % (loss.item()))\n",
    "    \n",
    "    optimizer.zero_grad()\n",
    "    \n",
    "    # Trigger backpropagation\n",
    "    loss.backward()\n",
    "    # Move on\n",
    "    optimizer.step()"
   ]
  },
  {
   "cell_type": "markdown",
   "metadata": {},
   "source": [
    "Display the evolution of the loss function. We would expect the graph to flatline after a few initial pulses."
   ]
  },
  {
   "cell_type": "code",
   "execution_count": 25,
   "metadata": {},
   "outputs": [],
   "source": [
    "fig = plt.figure(figsize=(30,10))\n",
    "plt.title('The evolution of the LOSS function during training', fontsize=10)\n",
    "plt.xlabel('x', fontsize=20)\n",
    "plt.ylabel('y', fontsize=20)\n",
    "plt.xticks(fontsize=20)\n",
    "plt.yticks(fontsize=20)\n",
    "\n",
    "plt.plot(np.arange(epochs), losses, 'r', linewidth=1.0)\n",
    "\n",
    "display(fig)\n",
    "plt.close()"
   ]
  },
  {
   "cell_type": "markdown",
   "metadata": {},
   "source": [
    "### Predict the future\n",
    "\n",
    "One the training process is finished, we are using the trained model to predict the values for the next 30 days. Since our sample size in ```sample_size``` we are just taking the last ```sample_size``` elements from the original time series and feed them to the model.\n",
    "\n",
    "Notice the ```with torch.no_grad()``` option which basically tells PyTorch this is not part of any training process, hence there is no need to track the gradients on the tensors involved."
   ]
  },
  {
   "cell_type": "code",
   "execution_count": 27,
   "metadata": {},
   "outputs": [],
   "source": [
    "# The model is trained, predict the next 30 days\n",
    "days_to_predict = 30\n",
    "\n",
    "# Get the tensor with the last sample_size values\n",
    "final_input = torch.from_numpy(source[-sample_size:].reshape(1, sample_size))\n",
    "\n",
    "# No need to track gradient anymore\n",
    "with torch.no_grad():\n",
    "    \n",
    "    y_t = pred(final_input, future=days_to_predict)\n",
    "    y = y_t.detach().numpy()"
   ]
  },
  {
   "cell_type": "markdown",
   "metadata": {},
   "source": [
    "The result of the prediction will contain the predicted output corresponding to the input plus a number of elements equal to the number of future days we need prediction for.\n",
    "\n",
    "We'll just take a look at the future values predicted."
   ]
  },
  {
   "cell_type": "code",
   "execution_count": 29,
   "metadata": {},
   "outputs": [],
   "source": [
    "future_predictions = y[0, - days_to_predict:]\n",
    "print(future_predictions)"
   ]
  },
  {
   "cell_type": "markdown",
   "metadata": {},
   "source": [
    "Plot the last ```sample_size``` elements from the original time series in green and the predicted values for the next 30 days in red.\n",
    "\n",
    "Please note that we are using synthetic training data and the target value was randomly generated around a mean, thus you will observe that the predictions are closer to the mean of the dataset."
   ]
  },
  {
   "cell_type": "code",
   "execution_count": 31,
   "metadata": {},
   "outputs": [],
   "source": [
    "fig = plt.figure(figsize=(30,10))\n",
    "plt.title('Predict future values \\n(Red values are predicted values)', fontsize=10)\n",
    "plt.xlabel('x', fontsize=20)\n",
    "plt.ylabel('y', fontsize=20)\n",
    "plt.xticks(fontsize=20)\n",
    "plt.yticks(fontsize=20)\n",
    "\n",
    "plt.plot(np.arange(sample_size), source[-sample_size:], 'g', linewidth=1.0)\n",
    "plt.plot(np.arange(sample_size, sample_size + days_to_predict), future_predictions, 'r', linewidth=1.0)\n",
    "\n",
    "display(fig)\n",
    "plt.close()"
   ]
  }
 ],
 "metadata": {
  "kernelspec": {
   "display_name": "Python 3.6 - AzureML",
   "language": "python",
   "name": "python3-azureml"
  },
  "language_info": {
   "codemirror_mode": {
    "name": "ipython",
    "version": 3
   },
   "file_extension": ".py",
   "mimetype": "text/x-python",
   "name": "python",
   "nbconvert_exporter": "python",
   "pygments_lexer": "ipython3",
   "version": "3.6.9"
  },
  "name": "Deep Learning with Time Series",
  "notebookId": 2523663176204770
 },
 "nbformat": 4,
 "nbformat_minor": 4
}
